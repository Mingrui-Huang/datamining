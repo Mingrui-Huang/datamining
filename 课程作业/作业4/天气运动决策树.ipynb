{
 "cells": [
  {
   "cell_type": "code",
   "execution_count": 1,
   "id": "d5840dc7",
   "metadata": {
    "ExecuteTime": {
     "end_time": "2022-05-04T05:31:11.244227Z",
     "start_time": "2022-05-04T05:31:10.457440Z"
    }
   },
   "outputs": [],
   "source": [
    "import pandas as pd\n",
    "import math\n",
    "import operator\n",
    "import matplotlib\n",
    "import matplotlib.pyplot as plt\n",
    "%matplotlib inline"
   ]
  },
  {
   "cell_type": "code",
   "execution_count": 2,
   "id": "46631b30",
   "metadata": {
    "ExecuteTime": {
     "end_time": "2022-05-04T05:31:11.259552Z",
     "start_time": "2022-05-04T05:31:11.245460Z"
    },
    "scrolled": false
   },
   "outputs": [
    {
     "data": {
      "text/html": [
       "<div>\n",
       "<style scoped>\n",
       "    .dataframe tbody tr th:only-of-type {\n",
       "        vertical-align: middle;\n",
       "    }\n",
       "\n",
       "    .dataframe tbody tr th {\n",
       "        vertical-align: top;\n",
       "    }\n",
       "\n",
       "    .dataframe thead th {\n",
       "        text-align: right;\n",
       "    }\n",
       "</style>\n",
       "<table border=\"1\" class=\"dataframe\">\n",
       "  <thead>\n",
       "    <tr style=\"text-align: right;\">\n",
       "      <th></th>\n",
       "      <th>天气</th>\n",
       "      <th>温度</th>\n",
       "      <th>湿度</th>\n",
       "      <th>风况</th>\n",
       "      <th>运动</th>\n",
       "    </tr>\n",
       "  </thead>\n",
       "  <tbody>\n",
       "    <tr>\n",
       "      <th>0</th>\n",
       "      <td>晴</td>\n",
       "      <td>85</td>\n",
       "      <td>85</td>\n",
       "      <td>无</td>\n",
       "      <td>不适合</td>\n",
       "    </tr>\n",
       "    <tr>\n",
       "      <th>1</th>\n",
       "      <td>晴</td>\n",
       "      <td>80</td>\n",
       "      <td>90</td>\n",
       "      <td>有</td>\n",
       "      <td>不适合</td>\n",
       "    </tr>\n",
       "    <tr>\n",
       "      <th>2</th>\n",
       "      <td>多云</td>\n",
       "      <td>83</td>\n",
       "      <td>78</td>\n",
       "      <td>无</td>\n",
       "      <td>适合</td>\n",
       "    </tr>\n",
       "    <tr>\n",
       "      <th>3</th>\n",
       "      <td>有雨</td>\n",
       "      <td>70</td>\n",
       "      <td>96</td>\n",
       "      <td>无</td>\n",
       "      <td>适合</td>\n",
       "    </tr>\n",
       "    <tr>\n",
       "      <th>4</th>\n",
       "      <td>有雨</td>\n",
       "      <td>68</td>\n",
       "      <td>80</td>\n",
       "      <td>无</td>\n",
       "      <td>适合</td>\n",
       "    </tr>\n",
       "    <tr>\n",
       "      <th>5</th>\n",
       "      <td>有雨</td>\n",
       "      <td>65</td>\n",
       "      <td>70</td>\n",
       "      <td>有</td>\n",
       "      <td>不适合</td>\n",
       "    </tr>\n",
       "    <tr>\n",
       "      <th>6</th>\n",
       "      <td>多云</td>\n",
       "      <td>64</td>\n",
       "      <td>65</td>\n",
       "      <td>有</td>\n",
       "      <td>适合</td>\n",
       "    </tr>\n",
       "    <tr>\n",
       "      <th>7</th>\n",
       "      <td>晴</td>\n",
       "      <td>72</td>\n",
       "      <td>95</td>\n",
       "      <td>无</td>\n",
       "      <td>不适合</td>\n",
       "    </tr>\n",
       "    <tr>\n",
       "      <th>8</th>\n",
       "      <td>晴</td>\n",
       "      <td>69</td>\n",
       "      <td>70</td>\n",
       "      <td>无</td>\n",
       "      <td>适合</td>\n",
       "    </tr>\n",
       "    <tr>\n",
       "      <th>9</th>\n",
       "      <td>有雨</td>\n",
       "      <td>75</td>\n",
       "      <td>80</td>\n",
       "      <td>无</td>\n",
       "      <td>适合</td>\n",
       "    </tr>\n",
       "    <tr>\n",
       "      <th>10</th>\n",
       "      <td>晴</td>\n",
       "      <td>75</td>\n",
       "      <td>70</td>\n",
       "      <td>有</td>\n",
       "      <td>适合</td>\n",
       "    </tr>\n",
       "    <tr>\n",
       "      <th>11</th>\n",
       "      <td>多云</td>\n",
       "      <td>72</td>\n",
       "      <td>90</td>\n",
       "      <td>有</td>\n",
       "      <td>适合</td>\n",
       "    </tr>\n",
       "    <tr>\n",
       "      <th>12</th>\n",
       "      <td>多云</td>\n",
       "      <td>81</td>\n",
       "      <td>75</td>\n",
       "      <td>无</td>\n",
       "      <td>适合</td>\n",
       "    </tr>\n",
       "    <tr>\n",
       "      <th>13</th>\n",
       "      <td>有雨</td>\n",
       "      <td>71</td>\n",
       "      <td>80</td>\n",
       "      <td>有</td>\n",
       "      <td>不适合</td>\n",
       "    </tr>\n",
       "  </tbody>\n",
       "</table>\n",
       "</div>"
      ],
      "text/plain": [
       "    天气  温度  湿度 风况   运动\n",
       "0    晴  85  85  无  不适合\n",
       "1    晴  80  90  有  不适合\n",
       "2   多云  83  78  无   适合\n",
       "3   有雨  70  96  无   适合\n",
       "4   有雨  68  80  无   适合\n",
       "5   有雨  65  70  有  不适合\n",
       "6   多云  64  65  有   适合\n",
       "7    晴  72  95  无  不适合\n",
       "8    晴  69  70  无   适合\n",
       "9   有雨  75  80  无   适合\n",
       "10   晴  75  70  有   适合\n",
       "11  多云  72  90  有   适合\n",
       "12  多云  81  75  无   适合\n",
       "13  有雨  71  80  有  不适合"
      ]
     },
     "execution_count": 2,
     "metadata": {},
     "output_type": "execute_result"
    }
   ],
   "source": [
    "df = pd.read_csv('./天气与运动.csv')\n",
    "df"
   ]
  },
  {
   "cell_type": "code",
   "execution_count": 3,
   "id": "22ca786a",
   "metadata": {
    "ExecuteTime": {
     "end_time": "2022-05-04T05:31:11.275056Z",
     "start_time": "2022-05-04T05:31:11.260541Z"
    },
    "scrolled": false
   },
   "outputs": [],
   "source": [
    "# 找出温度的均值，大于他的为热，小于他的为凉\n",
    "tem_1 = df['温度'] < df.温度.mean()\n",
    "tem_2 = df['温度'] >= df.温度.mean()\n",
    "df.loc[tem_1,'温度'] = '凉'\n",
    "df.loc[tem_2,'温度'] = '热'\n",
    "#找出湿度的均值，大于他的为湿，小于他的为干\n",
    "hum_1 = df['湿度'] < df.湿度.mean()\n",
    "hum_2 = df['湿度'] >= df.湿度.mean()\n",
    "df.loc[hum_1,'湿度'] = '干'\n",
    "df.loc[hum_2,'湿度'] = '湿'"
   ]
  },
  {
   "cell_type": "code",
   "execution_count": 4,
   "id": "30a67ddc",
   "metadata": {
    "ExecuteTime": {
     "end_time": "2022-05-04T05:31:11.291051Z",
     "start_time": "2022-05-04T05:31:11.276074Z"
    },
    "scrolled": true
   },
   "outputs": [
    {
     "data": {
      "text/html": [
       "<div>\n",
       "<style scoped>\n",
       "    .dataframe tbody tr th:only-of-type {\n",
       "        vertical-align: middle;\n",
       "    }\n",
       "\n",
       "    .dataframe tbody tr th {\n",
       "        vertical-align: top;\n",
       "    }\n",
       "\n",
       "    .dataframe thead th {\n",
       "        text-align: right;\n",
       "    }\n",
       "</style>\n",
       "<table border=\"1\" class=\"dataframe\">\n",
       "  <thead>\n",
       "    <tr style=\"text-align: right;\">\n",
       "      <th></th>\n",
       "      <th>天气</th>\n",
       "      <th>温度</th>\n",
       "      <th>湿度</th>\n",
       "      <th>风况</th>\n",
       "      <th>运动</th>\n",
       "    </tr>\n",
       "  </thead>\n",
       "  <tbody>\n",
       "    <tr>\n",
       "      <th>0</th>\n",
       "      <td>晴</td>\n",
       "      <td>热</td>\n",
       "      <td>湿</td>\n",
       "      <td>无</td>\n",
       "      <td>不适合</td>\n",
       "    </tr>\n",
       "    <tr>\n",
       "      <th>1</th>\n",
       "      <td>晴</td>\n",
       "      <td>热</td>\n",
       "      <td>湿</td>\n",
       "      <td>有</td>\n",
       "      <td>不适合</td>\n",
       "    </tr>\n",
       "    <tr>\n",
       "      <th>2</th>\n",
       "      <td>多云</td>\n",
       "      <td>热</td>\n",
       "      <td>干</td>\n",
       "      <td>无</td>\n",
       "      <td>适合</td>\n",
       "    </tr>\n",
       "    <tr>\n",
       "      <th>3</th>\n",
       "      <td>有雨</td>\n",
       "      <td>凉</td>\n",
       "      <td>湿</td>\n",
       "      <td>无</td>\n",
       "      <td>适合</td>\n",
       "    </tr>\n",
       "    <tr>\n",
       "      <th>4</th>\n",
       "      <td>有雨</td>\n",
       "      <td>凉</td>\n",
       "      <td>干</td>\n",
       "      <td>无</td>\n",
       "      <td>适合</td>\n",
       "    </tr>\n",
       "    <tr>\n",
       "      <th>5</th>\n",
       "      <td>有雨</td>\n",
       "      <td>凉</td>\n",
       "      <td>干</td>\n",
       "      <td>有</td>\n",
       "      <td>不适合</td>\n",
       "    </tr>\n",
       "    <tr>\n",
       "      <th>6</th>\n",
       "      <td>多云</td>\n",
       "      <td>凉</td>\n",
       "      <td>干</td>\n",
       "      <td>有</td>\n",
       "      <td>适合</td>\n",
       "    </tr>\n",
       "    <tr>\n",
       "      <th>7</th>\n",
       "      <td>晴</td>\n",
       "      <td>凉</td>\n",
       "      <td>湿</td>\n",
       "      <td>无</td>\n",
       "      <td>不适合</td>\n",
       "    </tr>\n",
       "    <tr>\n",
       "      <th>8</th>\n",
       "      <td>晴</td>\n",
       "      <td>凉</td>\n",
       "      <td>干</td>\n",
       "      <td>无</td>\n",
       "      <td>适合</td>\n",
       "    </tr>\n",
       "    <tr>\n",
       "      <th>9</th>\n",
       "      <td>有雨</td>\n",
       "      <td>热</td>\n",
       "      <td>干</td>\n",
       "      <td>无</td>\n",
       "      <td>适合</td>\n",
       "    </tr>\n",
       "    <tr>\n",
       "      <th>10</th>\n",
       "      <td>晴</td>\n",
       "      <td>热</td>\n",
       "      <td>干</td>\n",
       "      <td>有</td>\n",
       "      <td>适合</td>\n",
       "    </tr>\n",
       "    <tr>\n",
       "      <th>11</th>\n",
       "      <td>多云</td>\n",
       "      <td>凉</td>\n",
       "      <td>湿</td>\n",
       "      <td>有</td>\n",
       "      <td>适合</td>\n",
       "    </tr>\n",
       "    <tr>\n",
       "      <th>12</th>\n",
       "      <td>多云</td>\n",
       "      <td>热</td>\n",
       "      <td>干</td>\n",
       "      <td>无</td>\n",
       "      <td>适合</td>\n",
       "    </tr>\n",
       "    <tr>\n",
       "      <th>13</th>\n",
       "      <td>有雨</td>\n",
       "      <td>凉</td>\n",
       "      <td>干</td>\n",
       "      <td>有</td>\n",
       "      <td>不适合</td>\n",
       "    </tr>\n",
       "  </tbody>\n",
       "</table>\n",
       "</div>"
      ],
      "text/plain": [
       "    天气 温度 湿度 风况   运动\n",
       "0    晴  热  湿  无  不适合\n",
       "1    晴  热  湿  有  不适合\n",
       "2   多云  热  干  无   适合\n",
       "3   有雨  凉  湿  无   适合\n",
       "4   有雨  凉  干  无   适合\n",
       "5   有雨  凉  干  有  不适合\n",
       "6   多云  凉  干  有   适合\n",
       "7    晴  凉  湿  无  不适合\n",
       "8    晴  凉  干  无   适合\n",
       "9   有雨  热  干  无   适合\n",
       "10   晴  热  干  有   适合\n",
       "11  多云  凉  湿  有   适合\n",
       "12  多云  热  干  无   适合\n",
       "13  有雨  凉  干  有  不适合"
      ]
     },
     "execution_count": 4,
     "metadata": {},
     "output_type": "execute_result"
    }
   ],
   "source": [
    "df.to_csv('./天气与运动_已处理.csv',index=None)\n",
    "df2 = pd.read_csv('./天气与运动_已处理.csv')\n",
    "df2"
   ]
  },
  {
   "cell_type": "markdown",
   "id": "54cb8907",
   "metadata": {},
   "source": [
    "# 导入数据生成决策树"
   ]
  },
  {
   "cell_type": "code",
   "execution_count": 5,
   "id": "2c57e21a",
   "metadata": {
    "ExecuteTime": {
     "end_time": "2022-05-04T05:31:11.307221Z",
     "start_time": "2022-05-04T05:31:11.292048Z"
    }
   },
   "outputs": [],
   "source": [
    "def loadDataSet():\n",
    "    #导入数据\n",
    "    dataSet = pd.read_csv('./天气与运动_已处理.csv')\n",
    "    labelSet = list(dataSet.columns.values)\n",
    "    dataSet = dataSet.values\n",
    "    dataSet = dataSet.tolist()\n",
    "    return dataSet, labelSet"
   ]
  },
  {
   "cell_type": "code",
   "execution_count": 6,
   "id": "405155c7",
   "metadata": {
    "ExecuteTime": {
     "end_time": "2022-05-04T05:31:11.322352Z",
     "start_time": "2022-05-04T05:31:11.308335Z"
    }
   },
   "outputs": [],
   "source": [
    "dataSet,dataLabels = loadDataSet()"
   ]
  },
  {
   "cell_type": "code",
   "execution_count": 7,
   "id": "38f0b8c4",
   "metadata": {
    "ExecuteTime": {
     "end_time": "2022-05-04T05:31:11.338153Z",
     "start_time": "2022-05-04T05:31:11.323348Z"
    }
   },
   "outputs": [
    {
     "data": {
      "text/plain": [
       "[['晴', '热', '湿', '无', '不适合'],\n",
       " ['晴', '热', '湿', '有', '不适合'],\n",
       " ['多云', '热', '干', '无', '适合'],\n",
       " ['有雨', '凉', '湿', '无', '适合'],\n",
       " ['有雨', '凉', '干', '无', '适合'],\n",
       " ['有雨', '凉', '干', '有', '不适合'],\n",
       " ['多云', '凉', '干', '有', '适合'],\n",
       " ['晴', '凉', '湿', '无', '不适合'],\n",
       " ['晴', '凉', '干', '无', '适合'],\n",
       " ['有雨', '热', '干', '无', '适合'],\n",
       " ['晴', '热', '干', '有', '适合'],\n",
       " ['多云', '凉', '湿', '有', '适合'],\n",
       " ['多云', '热', '干', '无', '适合'],\n",
       " ['有雨', '凉', '干', '有', '不适合']]"
      ]
     },
     "execution_count": 7,
     "metadata": {},
     "output_type": "execute_result"
    }
   ],
   "source": [
    " dataSet"
   ]
  },
  {
   "cell_type": "code",
   "execution_count": 8,
   "id": "b6f971be",
   "metadata": {
    "ExecuteTime": {
     "end_time": "2022-05-04T05:31:11.354074Z",
     "start_time": "2022-05-04T05:31:11.339149Z"
    }
   },
   "outputs": [
    {
     "data": {
      "text/plain": [
       "['天气', '温度', '湿度', '风况', '运动']"
      ]
     },
     "execution_count": 8,
     "metadata": {},
     "output_type": "execute_result"
    }
   ],
   "source": [
    "dataLabels"
   ]
  },
  {
   "cell_type": "code",
   "execution_count": 9,
   "id": "87925a3f",
   "metadata": {
    "ExecuteTime": {
     "end_time": "2022-05-04T05:31:11.369638Z",
     "start_time": "2022-05-04T05:31:11.356068Z"
    }
   },
   "outputs": [],
   "source": [
    "def calcShannonEnt(dataSet):\n",
    "    #样本总个数\n",
    "    totalNum = len(dataSet)\n",
    "    #类别集合\n",
    "    labelSet = {}\n",
    "    #计算每个类别的样本个数\n",
    "    for dataVec in dataSet:\n",
    "        label = dataVec[-1]\n",
    "        if label not in labelSet.keys():\n",
    "            labelSet[label] = 0\n",
    "        labelSet[label] += 1\n",
    "    shannonEnt = 0\n",
    "    #计算熵值\n",
    "    for key in labelSet:\n",
    "        pi = float(labelSet[key])/totalNum\n",
    "        shannonEnt -= pi*math.log(pi,2)\n",
    "    return shannonEnt"
   ]
  },
  {
   "cell_type": "code",
   "execution_count": 10,
   "id": "79aa2417",
   "metadata": {
    "ExecuteTime": {
     "end_time": "2022-05-04T05:31:11.385742Z",
     "start_time": "2022-05-04T05:31:11.370666Z"
    }
   },
   "outputs": [],
   "source": [
    "def splitDataSet(dataSet, featNum, featvalue):\n",
    "    '''按给定特征划分数据集'''\n",
    "    retDataSet = []\n",
    "    for dataVec in dataSet:\n",
    "        if dataVec[featNum] == featvalue:\n",
    "            splitData = dataVec[:featNum]\n",
    "            splitData.extend(dataVec[featNum+1:])\n",
    "            retDataSet.append(splitData)\n",
    "    return retDataSet\n"
   ]
  },
  {
   "cell_type": "code",
   "execution_count": 11,
   "id": "3bbfdd4c",
   "metadata": {
    "ExecuteTime": {
     "end_time": "2022-05-04T05:31:11.400994Z",
     "start_time": "2022-05-04T05:31:11.386724Z"
    }
   },
   "outputs": [],
   "source": [
    "def chooseBestFeatToSplit(dataSet):\n",
    "    '''选择最好的特征划分数据集'''\n",
    "    featNum = len(dataSet[0]) - 1\n",
    "    maxInfoGain = 0\n",
    "    bestFeat = -1\n",
    "    #计算样本熵值，对应公式中：H(X)\n",
    "    baseShanno = calcShannonEnt(dataSet)\n",
    "    #以每一个特征进行分类，找出使信息增益最大的特征\n",
    "    for i in range(featNum):\n",
    "        featList = [dataVec[i] for dataVec in dataSet]\n",
    "        featList = set(featList)\n",
    "        newShanno = 0\n",
    "        #计算以第i个特征进行分类后的熵值，对应公式中：H(X|Y)\n",
    "        for featValue in featList:\n",
    "            subDataSet = splitDataSet(dataSet, i, featValue)\n",
    "            prob = len(subDataSet)/float(len(dataSet))\n",
    "            newShanno += prob*calcShannonEnt(subDataSet)\n",
    "        #ID3算法：计算信息增益,对应公式中：g(X,Y)=H(X)-H(X|Y)\n",
    "        infoGain = baseShanno - newShanno\n",
    "        #找出最大的熵值以及其对应的特征\n",
    "        if infoGain > maxInfoGain:\n",
    "            maxInfoGain = infoGain\n",
    "            bestFeat = i\n",
    "    return bestFeat"
   ]
  },
  {
   "cell_type": "code",
   "execution_count": 12,
   "id": "8ba3dfae",
   "metadata": {
    "ExecuteTime": {
     "end_time": "2022-05-04T05:31:11.417093Z",
     "start_time": "2022-05-04T05:31:11.401896Z"
    }
   },
   "outputs": [],
   "source": [
    "def majorityCnt(labelList):\n",
    "    '''少数服从多数原则确定该叶子节点类别'''\n",
    "    labelSet = {}\n",
    "    # 统计每个类别的样本个数\n",
    "    for label in labelList:\n",
    "        if label not in labelSet.keys():\n",
    "            labelSet[label] = 0\n",
    "        labelSet[label] += 1\n",
    "    # iteritems：返回列表迭代器\n",
    "    # operator.itemgeter(1):获取对象第一个域的值\n",
    "    # True：降序\n",
    "    sortedLabelSet = sorted(labelSet.items(), key=operator.itemgetter(1), reverse=True)\n",
    "    return sortedLabelSet[0][0]"
   ]
  },
  {
   "cell_type": "code",
   "execution_count": 13,
   "id": "5e9585eb",
   "metadata": {
    "ExecuteTime": {
     "end_time": "2022-05-04T05:31:11.432435Z",
     "start_time": "2022-05-04T05:31:11.418090Z"
    }
   },
   "outputs": [],
   "source": [
    "def createDecideTree(dataSet, featName):\n",
    "    '''创建决策树'''\n",
    "    #数据集的分类类别\n",
    "    classList = [dataVec[-1] for dataVec in dataSet]\n",
    "    #所有样本属于同一类时，停止划分，返回该类别\n",
    "    if len(classList) == classList.count(classList[0]):\n",
    "        return classList[0]\n",
    "    #所有特征已经遍历完，停止划分，返回样本数最多的类别\n",
    "    if len(dataSet[0]) == 1:\n",
    "        return majorityCnt(classList)\n",
    "    #选择最好的特征进行划分\n",
    "    bestFeat = chooseBestFeatToSplit(dataSet)\n",
    "    beatFestName = featName[bestFeat]\n",
    "    del featName[bestFeat]\n",
    "    #以字典形式表示树\n",
    "    DTree = {beatFestName:{}}\n",
    "    #根据选择的特征，遍历该特征的所有属性值，在每个划分子集上递归调用createDecideTree\n",
    "    featValue = [dataVec[bestFeat] for dataVec in dataSet]\n",
    "    featValue = set(featValue)\n",
    "    for value in featValue:\n",
    "        subFeatName = featName[:]\n",
    "        DTree[beatFestName][value] = createDecideTree(splitDataSet(dataSet,bestFeat,value), subFeatName)\n",
    "    return DTree"
   ]
  },
  {
   "cell_type": "markdown",
   "id": "20244b27",
   "metadata": {},
   "source": [
    "# 绘制决策树"
   ]
  },
  {
   "cell_type": "code",
   "execution_count": 14,
   "id": "96456da7",
   "metadata": {
    "ExecuteTime": {
     "end_time": "2022-05-04T05:31:11.447625Z",
     "start_time": "2022-05-04T05:31:11.433368Z"
    }
   },
   "outputs": [],
   "source": [
    "def getNumLeafs(tree):\n",
    "    '''获取叶节点的数目'''\n",
    "    #统计叶子节点总数\n",
    "    numLeafs = 0\n",
    "    #获取第一个节点的分类特征，也就是根节点\n",
    "    firstFeat = list(tree.keys())[0]\n",
    "    #得到第一个key对应的内容（以字典方式表示）\n",
    "    secondDict = tree[firstFeat]\n",
    "    #递归遍历叶子节点\n",
    "    for key in secondDict.keys():\n",
    "        #如果节点类型为字典，说明该节点下仍然是一棵树，调用递归\n",
    "        if type(secondDict[key]).__name__== 'dict':\n",
    "            numLeafs += getNumLeafs(secondDict[key])\n",
    "        #否则该节点为叶节点\n",
    "        else:\n",
    "            numLeafs += 1\n",
    "    return numLeafs"
   ]
  },
  {
   "cell_type": "code",
   "execution_count": 15,
   "id": "2ba37bce",
   "metadata": {
    "ExecuteTime": {
     "end_time": "2022-05-04T05:31:11.463156Z",
     "start_time": "2022-05-04T05:31:11.448681Z"
    }
   },
   "outputs": [],
   "source": [
    "def getTreeDepth(tree):\n",
    "    '''得到数的深度'''\n",
    "    #保存最大层数\n",
    "    maxDepth = 0\n",
    "    #获取根节点\n",
    "    firstFeat = list(tree.keys())[0]\n",
    "    #得到key对应的内容（以字典方式表示）\n",
    "    secondDict = tree[firstFeat]\n",
    "    #遍历所有子节点\n",
    "    for key in secondDict.keys():\n",
    "        #如果节点类型为字典，说明该节点下仍然是一棵树，调用递归\n",
    "        if type(secondDict[key]).__name__ == 'dict':\n",
    "            #子节点深度加一\n",
    "            thisDepth = 1 + getTreeDepth(secondDict[key])\n",
    "        #此时是叶子节点\n",
    "        else:\n",
    "            thisDepth = 1\n",
    "        #替换最大层数\n",
    "        if thisDepth > maxDepth:\n",
    "            maxDepth = thisDepth\n",
    "    return maxDepth\n"
   ]
  },
  {
   "cell_type": "code",
   "execution_count": 16,
   "id": "f0ed9558",
   "metadata": {
    "ExecuteTime": {
     "end_time": "2022-05-04T05:31:11.478214Z",
     "start_time": "2022-05-04T05:31:11.464180Z"
    }
   },
   "outputs": [],
   "source": [
    "def createPlot(tree):\n",
    "    '''画出决策树'''\n",
    "    # 定义一块画布，背景为白色\n",
    "    fig = plt.figure(1, facecolor='white')\n",
    "    # 清空画布\n",
    "    fig.clf()\n",
    "    # 不显示x、y轴刻度\n",
    "    xyticks = dict(xticks=[], yticks=[])\n",
    "    # frameon：是否绘制坐标轴矩形\n",
    "    createPlot.pTree = plt.subplot(111, frameon=False, **xyticks)\n",
    "    # 计算出决策树的总宽度\n",
    "    plotTree.totalW = float(getNumLeafs(tree))\n",
    "    # 计算出决策树的总深度\n",
    "    plotTree.totalD = float(getTreeDepth(tree))\n",
    "    # 初始的x轴偏移量，也就是-1/2W，每次向右移动1/W，也就是第一个叶子节点绘制的x坐标为：1/2W，第二个：3/2W，第三个：5/2W，最后一个：(W-1)/2W\n",
    "    plotTree.xOff = -0.5 / plotTree.totalW\n",
    "    # 初始的y轴偏移量，每次向下或者向上移动1/D\n",
    "    plotTree.yOff = 1.0\n",
    "    # （0.5,1.0）为根节点坐标，调用函数进行绘制节点图像\n",
    "    plotTree(tree, (0.5, 1.0), '')\n",
    "    plt.show()"
   ]
  },
  {
   "cell_type": "code",
   "execution_count": 17,
   "id": "a70eee3c",
   "metadata": {
    "ExecuteTime": {
     "end_time": "2022-05-04T05:31:11.493388Z",
     "start_time": "2022-05-04T05:31:11.479194Z"
    }
   },
   "outputs": [],
   "source": [
    "# 为了能够显示中文\n",
    "matplotlib.rcParams['font.sans-serif'] = [\"SimHei\"]\n",
    "matplotlib.rcParams['axes.unicode_minus'] = True\n",
    "# boxstyle表示文本框类型，sawtooth：锯齿形；fc表示边框线粗细\n",
    "#决策节点\n",
    "decisionNode = dict(boxstyle=\"sawtooth\", fc=\"0.5\")\n",
    "#叶子节点\n",
    "leafNode = dict(boxstyle=\"round4\", fc=\"0.5\")\n",
    "# 箭头类型\n",
    "arrow_args = dict(arrowstyle=\"<-\")"
   ]
  },
  {
   "cell_type": "code",
   "execution_count": 18,
   "id": "0a488887",
   "metadata": {
    "ExecuteTime": {
     "end_time": "2022-05-04T05:31:11.509358Z",
     "start_time": "2022-05-04T05:31:11.494354Z"
    }
   },
   "outputs": [],
   "source": [
    "def plotNode(nodeText, centerPt, parentPt, nodeType):\n",
    "    '''绘制一个节点'''\n",
    "    # nodeText:要显示的文本；centerPt：文本中心点，即箭头所在的点；parentPt：指向文本的点；nodeType:节点属性\n",
    "    # ha='center'，va='center':水平、垂直方向中心对齐；bbox：方框属性\n",
    "    # arrowprops：箭头属性\n",
    "    # xycoords，textcoords选择坐标系；axes fraction-->0,0是轴域左下角，1,1是右上角\n",
    "    createPlot.pTree.annotate(nodeText, xy=parentPt, xycoords=\"axes fraction\",\n",
    "                              xytext=centerPt, textcoords='axes fraction',\n",
    "                              va='center', ha='center', bbox=nodeType, arrowprops=arrow_args)"
   ]
  },
  {
   "cell_type": "code",
   "execution_count": 19,
   "id": "32cf22dd",
   "metadata": {
    "ExecuteTime": {
     "end_time": "2022-05-04T05:31:11.525289Z",
     "start_time": "2022-05-04T05:31:11.510331Z"
    }
   },
   "outputs": [],
   "source": [
    "def plotMidText(centerPt, parentPt, midText):\n",
    "    '''计算出父节点和子节点的中间位置，填充信息'''\n",
    "    #:param cntrPt: 子节点坐标\n",
    "    #:param parentPt: 父节点坐标\n",
    "    #:param txtString: 填充的文本信息\n",
    "    #计算x轴中间位置\n",
    "    xMid = (parentPt[0] - centerPt[0]) / 2.0 + centerPt[0]\n",
    "    #计算y轴中间位置\n",
    "    yMid = (parentPt[1] - centerPt[1]) / 2.0 + centerPt[1]\n",
    "    #进行绘制\n",
    "    createPlot.pTree.text(xMid, yMid, midText)"
   ]
  },
  {
   "cell_type": "code",
   "execution_count": 20,
   "id": "65700b65",
   "metadata": {
    "ExecuteTime": {
     "end_time": "2022-05-04T05:31:11.541030Z",
     "start_time": "2022-05-04T05:31:11.527015Z"
    }
   },
   "outputs": [],
   "source": [
    "def plotTree(tree, parentPt, nodeTxt):\n",
    "    '''绘制出树的所有节点，递归绘制'''\n",
    "    #计算叶子节点个数\n",
    "    numLeafs = getNumLeafs(tree)\n",
    "    #获取根节点内容\n",
    "    firstFeat = list(tree.keys())[0]\n",
    "    #计算当前节点的x坐标\n",
    "    centerPt = (plotTree.xOff + (1.0 + float(numLeafs))/2.0/plotTree.totalW, plotTree.yOff)\n",
    "    #绘制该节点与父节点的联系\n",
    "    plotMidText(centerPt,parentPt,nodeTxt)\n",
    "    #绘制该节点\n",
    "    plotNode(firstFeat,centerPt,parentPt,decisionNode)\n",
    "    #得到当前根节点对应的子树\n",
    "    secondDict = tree[firstFeat]\n",
    "    #计算出新的y轴偏移量，向下移动1/D，也就是下一层的绘制y轴\n",
    "    plotTree.yOff -= 1.0/plotTree.totalD\n",
    "    #循环遍历所有的key\n",
    "    for key in secondDict.keys():\n",
    "        #如果当前的key是字典的话，代表还有子树，则递归遍历\n",
    "        if type(secondDict[key]).__name__ == 'dict':\n",
    "            plotTree(secondDict[key],centerPt,str(key))\n",
    "        #如果当前节点的子节点是叶子节点，则绘制该叶节点\n",
    "        else:\n",
    "            # 计算新的x轴偏移量，也就是下个叶子绘制的x轴坐标向右移动了1/W\n",
    "            plotTree.xOff += 1.0/plotTree.totalW\n",
    "            # 绘制叶子节点\n",
    "            plotNode(secondDict[key], (plotTree.xOff,plotTree.yOff),centerPt,leafNode)\n",
    "            #绘制叶子节点和父节点的中间连线内容\n",
    "            plotMidText((plotTree.xOff,plotTree.yOff),centerPt,str(key))\n",
    "    #返回递归之前，需要将y轴的偏移量增加，向上移动1/D，也就是返回去绘制上一层的y轴\n",
    "    plotTree.yOff += 1.0/plotTree.totalD"
   ]
  },
  {
   "cell_type": "code",
   "execution_count": 21,
   "id": "b3117e7c",
   "metadata": {
    "ExecuteTime": {
     "end_time": "2022-05-04T05:31:11.745050Z",
     "start_time": "2022-05-04T05:31:11.543029Z"
    }
   },
   "outputs": [
    {
     "name": "stdout",
     "output_type": "stream",
     "text": [
      "决策树模型：\n",
      "{'天气': {'多云': '适合', '晴': {'湿度': {'干': '适合', '湿': '不适合'}}, '有雨': {'风况': {'有': '不适合', '无': '适合'}}}}\n"
     ]
    },
    {
     "data": {
      "image/png": "[encoded data removed]",
      "text/plain": [
       "<Figure size 432x288 with 1 Axes>"
      ]
     },
     "metadata": {},
     "output_type": "display_data"
    }
   ],
   "source": [
    "myTree = createDecideTree(dataSet,dataLabels)\n",
    "print(\"决策树模型：\")\n",
    "print(myTree)\n",
    "createPlot(myTree)"
   ]
  },
  {
   "cell_type": "code",
   "execution_count": null,
   "id": "7bc37d46",
   "metadata": {},
   "outputs": [],
   "source": []
  }
 ],
 "metadata": {
  "kernelspec": {
   "display_name": "Python 3 (ipykernel)",
   "language": "python",
   "name": "python3"
  },
  "language_info": {
   "codemirror_mode": {
    "name": "ipython",
    "version": 3
   },
   "file_extension": ".py",
   "mimetype": "text/x-python",
   "name": "python",
   "nbconvert_exporter": "python",
   "pygments_lexer": "ipython3",
   "version": "3.8.13"
  },
  "toc": {
   "base_numbering": 1,
   "nav_menu": {},
   "number_sections": true,
   "sideBar": true,
   "skip_h1_title": false,
   "title_cell": "Table of Contents",
   "title_sidebar": "Contents",
   "toc_cell": false,
   "toc_position": {},
   "toc_section_display": true,
   "toc_window_display": false
  },
  "varInspector": {
   "cols": {
    "lenName": 16,
    "lenType": 16,
    "lenVar": 40
   },
   "kernels_config": {
    "python": {
     "delete_cmd_postfix": "",
     "delete_cmd_prefix": "del ",
     "library": "var_list.py",
     "varRefreshCmd": "print(var_dic_list())"
    },
    "r": {
     "delete_cmd_postfix": ") ",
     "delete_cmd_prefix": "rm(",
     "library": "var_list.r",
     "varRefreshCmd": "cat(var_dic_list()) "
    }
   },
   "position": {
    "height": "331.852px",
    "left": "1070px",
    "right": "20px",
    "top": "120px",
    "width": "350px"
   },
   "types_to_exclude": [
    "module",
    "function",
    "builtin_function_or_method",
    "instance",
    "_Feature"
   ],
   "window_display": false
  }
 },
 "nbformat": 4,
 "nbformat_minor": 5
}
